{
 "cells": [
  {
   "cell_type": "markdown",
   "source": [
    "## Linear Regression Analysis of the relationship between BMI score, eye-sight and student score\n",
    "**On CEPS data**"
   ],
   "metadata": {
    "collapsed": false,
    "pycharm": {
     "name": "#%% md\n"
    }
   }
  },
  {
   "cell_type": "code",
   "execution_count": 1,
   "metadata": {},
   "outputs": [],
   "source": [
    "import pandas as pd\n",
    "import math\n",
    "from pandas.io.stata import StataReader, StataWriter"
   ]
  },
  {
   "cell_type": "markdown",
   "metadata": {
    "pycharm": {
     "name": "#%% md\n"
    }
   },
   "source": [
    "### Read Data: data1 for 2013-2014 CEPS data, data2 for 2014-2015 CEPS data"
   ]
  },
  {
   "cell_type": "code",
   "execution_count": 2,
   "metadata": {
    "pycharm": {
     "name": "#%%\n"
    }
   },
   "outputs": [],
   "source": [
    "file = r'data/CEPS基线调查学生数据.dta'"
   ]
  },
  {
   "cell_type": "code",
   "execution_count": 3,
   "metadata": {
    "pycharm": {
     "name": "#%%\n"
    }
   },
   "outputs": [],
   "source": [
    "stata_data = StataReader(file, convert_categoricals=False)\n",
    "data = stata_data.read()\n",
    "varlist = stata_data.varlist\n",
    "value_labels = stata_data.value_labels()\n",
    "fmtlist = stata_data.fmtlist\n",
    "variable_labels = stata_data.variable_labels()"
   ]
  },
  {
   "cell_type": "code",
   "execution_count": 4,
   "metadata": {
    "pycharm": {
     "name": "#%%\n"
    }
   },
   "outputs": [],
   "source": [
    "file2 = r'data/cepsw2studentEN.dta'"
   ]
  },
  {
   "cell_type": "code",
   "execution_count": 5,
   "metadata": {
    "pycharm": {
     "name": "#%%\n"
    }
   },
   "outputs": [],
   "source": [
    "stata_data2 = StataReader(file2, convert_categoricals=False)\n",
    "data2 = stata_data2.read()\n",
    "varlist2 = stata_data2.varlist\n",
    "value_labels2 = stata_data2.value_labels()\n",
    "fmtlist2 = stata_data2.fmtlist\n",
    "variable_labels2 = stata_data2.variable_labels()"
   ]
  },
  {
   "cell_type": "code",
   "execution_count": 6,
   "metadata": {
    "pycharm": {
     "name": "#%%\n"
    }
   },
   "outputs": [
    {
     "name": "stdout",
     "output_type": "stream",
     "text": [
      "{'ids': 'student id', 'clsids': 'class id', 'w2clsids': 'wave 2 classid', 'schids': 'school id', 'ctyids': 'county id', 'w2frame': 'which sampling frame the PSU belongs to', 'w2subsample': 'which subsampling frame the PSU belongs to', 'w2fall': 'survey time', 'w2sweight': 'wave 2 student weight', 'w1w2sweight': 'wave 1 & 2 student weight', 'w2status': 'student follow-up status', 'w2mtype': 'student missing type', 'w2mreason': 'student missing detailed reason', 'w2clsra': 'wave 2 class reassignment status', 'w2coglmh': 'wave 2 cognitive ability test-assigned category based on w1 test score', 'w2cogtype': 'wave 2 cognitive ability test-Questionnaire type the student used', 'w2cogscore': 'wave 2 cognitive ability test-raw score', 'w2cog3pl': 'wave 2 cognitive ability test-standardized score based on 3PL model', 'w2chn': '2014 fall mid-term exam raw score-Chinese', 'w2upchn': '2014 fall mid-term exam full marks-Chinese', 'w2mat': '2014 fall mid-term exam raw score-Maths', 'w2upmat': '2014 fall mid-term exam full marks-Maths', 'w2eng': '2014 fall mid-term exam raw score-English', 'w2upeng': '2014 fall mid-term exam full marks-English', 'w2a01': 'The location of your Hukou AT PRESENT is', 'w2a02': 'What is the type of your Hukou AT PRESENT?', 'w2a03': 'Where is your home AT PRESENT?', 'w2a04': 'What is the level of your command of local dialect?', 'w2a05': 'Are you the only child of your family?', 'w2a0601': 'elder brother(s)-How many FULL OR HALF siblings do you have AT PRESENT?', 'w2a0602': 'younger brother(s)-How many FULL OR HALF siblings do you have AT PRESENT?', 'w2a0603': 'elder sister(s)-How many FULL OR HALF siblings do you have AT PRESENT?', 'w2a0604': 'younger sister(s)-How many FULL OR HALF siblings do you have AT PRESENT?', 'w2a0701': 'Biological father', 'w2a0702': 'Biological mother', 'w2a0703': 'Stepfather', 'w2a0704': 'Stepmother', 'w2a0705': 'Full or half sibling(s)', 'w2a0706': \"Grandparent(s) on mother's/father's side\", 'w2a0707': 'Other relative(s)', 'w2a0708': 'Other non-relative(s)', 'w2a0801': 'Married-What¡¯s the CURRENT marital status of your biological parents?', 'w2a0801a': 'Do they live together?', 'w2a0802': 'Divorced-What¡¯s the CURRENT marital status of your biological parents?', 'w2a0802a': 'When did they divorce?', 'w2a0802b': 'To whom did the court grant your custody?', 'w2a0802c01': 'Father has remarried', 'w2a0802c02': 'Mother has remarried', 'w2a0802c03': 'Neither of them has remarried', 'w2a0803': 'My father has passed away', 'w2a0803a': 'Has your mother remarried ever since?', 'w2a0804': 'My mother has passed away', 'w2a0804a': 'Has your father remarried ever since?', 'w2a09': \"How's the financial condition of your family?\", 'w2a10': 'Do you have a writing desk of your own at home?', 'w2a11': 'How many books do your family own?', 'w2a12': 'Do your family own a computer and have an access to the Internet?', 'w2a13': 'What¡¯s the CURRENT occupation of your father?', 'w2a14': 'What¡¯s the CURRENT occupation of your mother?', 'w2a15': 'Does your father often get drunk?', 'w2a16': 'Do your parents quarrel a lot?', 'w2a17': 'Do your parents get along very well?', 'w2a18': 'How often did your parents check up on your homework LAST WEEK?', 'w2a19': 'How often did your parents give instruction on your homework LAST WEEK?', 'w2a2001': 'Your homework and examination', 'w2a2002': 'Your behavior at school', 'w2a2003': 'Whom you make friends with', 'w2a2004': 'Your dress style', 'w2a2005': 'Time you spend on the Internet', 'w2a2006': 'Time you spend on watching TV', 'w2a2101a': 'Things happened at school-Your father', 'w2a2101b': 'Things happened at school-Your mother', 'w2a2102a': 'The relationship between you and your friends-Your father', 'w2a2102b': 'The relationship between you and your friends-Your mother', 'w2a2103a': 'The relationship between you and your teachers-Your father', 'w2a2103b': 'The relationship between you and your teachers-Your mother', 'w2a2104a': 'Your worries and troubles-Your father', 'w2a2104b': 'Your worries and troubles-Your mother', 'w2a22': 'How is the general relationship between you and your father?', 'w2a23': 'How is the general relationship between you and your mother?', 'w2a24': 'How often do you have dinner with your parents?', 'w2a25': 'How often do you visit museums, zoos, science museums, etc. with your parents?', 'w2a26': 'How often do you go out to watch shows, etc. with your parents?', 'w2a27': \"What is your parents' requirement on your academic record?\", 'w2a28': 'What is the highest level of education  your parents expect you to receive?', 'w2a29': 'How do you feel about such expectation?', 'w2a30': 'What kind of job do your parents MOST expect you to do in the future?', 'w2a31': 'Where do you think your parents MOST expect you to live and work in the future?', 'w2a32': 'Are your parents confident about your future?', 'w2b01': 'How many students were there in your class when you were in GRADE 6?', 'w2b02': 'AT PRESENT, is mathematics difficult for you?', 'w2b03': 'AT PRESENT, is Chinese difficult for you?', 'w2b04': 'AT PRESENT, is English difficult for you?', 'w2b0501': 'My mathematics teacher always pays attention to me', 'w2b0502': 'My Chinese teacher always pays attention to me', 'w2b0503': 'My English teacher always pays attention to me', 'w2b0504': 'My mathematics teacher always asks me to answer questions in class', 'w2b0505': 'My Chinese teacher always asks me to answer questions in class', 'w2b0506': 'My English teacher always asks me to answer questions in class', 'w2b0507': 'My mathematics teacher always praises me', 'w2b0508': 'My Chinese teacher always praises me', 'w2b0509': 'My English teacher always praises me', 'w2b0601': 'My parents always receive praises on me from my teacher', 'w2b0602': 'My parents always receive criticism on me from my teacher', 'w2b0603': 'My homeroom teacher always praises me', 'w2b0604': 'My homeroom teacher always criticizes me', 'w2b0605': 'Most of my classmates are nice to me', 'w2b0606': 'My class is in good atmosphere', 'w2b0607': 'I often take part in school/class activities', 'w2b0608': 'I feel close to people in this school', 'w2b0609': 'I feel bored in this school', 'w2b0610': 'I hope that I could transfer to another school', 'w2b07a': 'Doing homework assigned by teacher-FROM MONDAY TO FRIDAY', 'w2b07b': 'Doing homework assigned by parents or cram school-FROM MONDAY TO FRIDAY', 'w2b07c': 'Taking cram school courses-FROM MONDAY TO FRIDAY', 'w2b07d': 'Taking interest related courses-FROM MONDAY TO FRIDAY', 'w2b07e': 'Watching TV-FROM MONDAY TO FRIDAY', 'w2b07f': 'Surfing on the Internet or playing video games-FROM MONDAY TO FRIDAY', 'w2b08a': 'Doing homework assigned by teacher-WEEKENDS', 'w2b08b': 'Doing homework assigned by parents or cram school-WEEKENDS', 'w2b08c': 'Taking cram school courses-WEEKENDS', 'w2b08d': 'Taking interest related courses)-WEEKENDS', 'w2b08e': 'Watching TV-WEEKENDS', 'w2b08f': 'Surfing on the Internet or playing video games-WEEKENDS', 'w2b09': 'How often did you visit museums, zoos, etc. IN THE PAST YEAR?', 'w2b10': 'How often did you go out to watch shows, etc. IN THE PAST YEAR?', 'w2b1100': 'None-What kind of extra-curricular courses do you take IN THE PAST YEAR?', 'w2b1101': 'Mathematical Olympiad', 'w2b1102': 'Ordinary Mathematics (not including Mathematical Olympiad)', 'w2b1103': 'Chinese/Chinese Composition Writing', 'w2b1104': 'English', 'w2b1105': 'Painting or drawing', 'w2b1106': 'Calligraphy', 'w2b1107': 'Music/Musical instrument', 'w2b1108': 'Dancing', 'w2b1109': 'Chess', 'w2b1110': 'Sports', 'w2b1111': 'Other', 'w2b1200': 'None-What hobbies do you have?', 'w2b1201': 'Playing musical instruments-What hobbies do you have?', 'w2b1202': 'Vocal practices/Singing/Dancing/Acting-What hobbies do you have?', 'w2b1203': 'Calligraphy-What hobbies do you have?', 'w2b1204': 'Painting or drawing/Animation-What hobbies do you have?', 'w2b1205': 'Chess-What hobbies do you have?', 'w2b1206': 'Sports-What hobbies do you have?', 'w2b1207': 'Other-What hobbies do you have?', 'w2b1300': 'None-Besides the hobbies mentioned above,what else do you often like to do?', 'w2b1301': 'Reading books', 'w2b1302': 'Doing handcrafts', 'w2b1303': 'Spending time on mobile phones', 'w2b1304': 'Playing video games', 'w2b1305': 'Other-Besides the hobbies mentioned above,what else do you often like to do?', 'w2b1401': 'Taking cram school courses (related to schoolwork)', 'w2b1402': 'Attending summer/winter camps', 'w2b1403': 'Helping parents out', 'w2b1404': 'Going back to hometown', 'w2b1405': 'Staying at home', 'w2b1406': 'Other-What did you usually do in winter and summer vacations IN THE PAST YEAR?', 'w2b15': 'Do you live in school at night FROM MONDAY TO THURSDAY?', 'w2b16': 'How do you usually go to school from home?', 'w2b17': 'How long does it take from your home to school?', 'w2b18': 'What is the highest level of education you expect yourself to receive?', 'w2b19': 'What kind of job do you MOST expect to do in the future?', 'w2b20': 'Where do you most expect to live and work when you grow up?', 'w2b21': 'Are you confident in your future?', 'w2c01': 'Your CURRENT height is', 'w2c02': 'Your CURRENT weight is', 'w2c03': 'What do you think of your body shape?', 'w2c04': \"How's your health NOW?\", 'w2c05': 'How often did you get sick IN THE PAST YEAR?', 'w2c06': 'How many days have you been absent due to sickness IN THE PAST YEAR?', 'w2c0701a': 'Kidney disease-SO FAR,have you had the following serious illnesses?', 'w2c0701b': 'Kidney disease-I had it when I was [__] years old', 'w2c0701c': 'Kidney disease-ecovered when I was [__] years old', 'w2c0702a': 'Lung disease-SO FAR,have you had the following serious illnesses?', 'w2c0702b': 'Lung disease-I had it when I was [__] years old', 'w2c0702c': 'Lung disease-ecovered when I was [__] years old', 'w2c0703a': 'Heart disease-SO FAR,have you had the following serious illnesses?', 'w2c0703b': 'Heart disease-I had it when I was [__] years old', 'w2c0703c': 'Heart disease-ecovered when I was [__] years old', 'w2c0704a': 'Brain disease-SO FAR,have you had the following serious illnesses?', 'w2c0704b': 'Brain disease-I had it when I was [__] years old', 'w2c0704c': 'Brain disease-ecovered when I was [__] years old', 'w2c0705a': 'Upper limb fracture-SO FAR,have you had the following serious illnesses?', 'w2c0705b': 'Upper limb fracture-I had it when I was [__] years old', 'w2c0705c': 'Upper limb fracture-ecovered when I was [__] years old', 'w2c0706a': 'Lower limb fracture-SO FAR,have you had the following serious illnesses?', 'w2c0706b': 'Lower limb fracture-I had it when I was [__] years old', 'w2c0706c': 'Lower limb fracture-ecovered when I was [__] years old', 'w2c08': 'What was your eyesight according to your LATEST health examination at school?', 'w2c08a': 'my left eye is [__]', 'w2c08b': 'my right eye is [__]', 'w2c09': 'Are you short-sighted?', 'w2c09a': 'The strength of my left eyeglass is [__] degrees', 'w2c09b': 'The strength of my right eyeglass is [__] degrees', 'w2c10': 'Are you born with myopia?', 'w2c11': 'Do you have dental caries / tooth decay?', 'w2c11a': 'Yes, I have [___] decayed tooth/teeth', 'w2c12': 'Have you ever had your tooth decay treated (such as filling a tooth)?', 'w2c13a': 'How often do you do physical exercise?-Usually [___] days a week', 'w2c13b': 'How often do you do physical exercise?-[___] minutes a day', 'w2c14a': 'Your physical ability level-For boys-Pull-ups: [___] times', 'w2c14b': 'Your physical ability level-For girls-Sit-ups: [___] times/minute', 'w2c15': 'How often do you eat junk food?', 'w2c16': 'How often do you have sugary drinks (such as milk tea) or sodas (such as Coke)?', 'w2c17': 'Does any of your family members WHO LIVE WITH YOU smoke?', 'w2c17a': 'Yes. [___] of my family members do/does', 'w2c18a': 'hours-How much time on average do you sleep EVERY NIGHT?', 'w2c18b': 'minutes-How much time on average do you sleep EVERY NIGHT?', 'w2c1900': 'I have no sleeping problems', 'w2c1901': 'Insomnia, difficult to fall asleep', 'w2c1902': 'Sleep fragmentation', 'w2c1903': 'Drowsiness', 'w2c1904': 'Remain fatigue after waking up', 'w2c1905': 'Snoring', 'w2c1906': 'Grind teeth in sleep', 'w2c1908': 'Dreaminess', 'w2c1909': 'Talk in sleep', 'w2c1907': 'Sleepwalking', 'w2c20': 'Have you ever taken any health education classes when you were in PRIMARY SCHOOL', 'w2c21': 'Have you ever taken any health education classes when you were in MIDDLE SCHOOL?', 'w2c22a': 'For boys to answer-My first nocturnal emission occurred when I was [__] years ol', 'w2c22b': 'For girls to answer-My first menstrual period occurred when I was [__] years old', 'w2c23': 'How do you view your appearance?', 'w2c2401': 'I would try my best to go to school even if I had any reasons to stay at home', 'w2c2402': 'I would try my best to finish even the homework I dislike', 'w2c2403': 'I would try my best to finish my homework, even if it would take me quite a long', 'w2c2404': 'I would persist in my interests and hobbies', 'w2c2501': 'Feeling blue', 'w2c2502': 'Too depressed to focus on anything', 'w2c2503': 'Unhappy', 'w2c2504': 'Not enjoying life', 'w2c2505': 'Having no passion to do anything', 'w2c2506': 'Sad, sorrowful', 'w2c2507': 'Nervous', 'w2c2508': 'Excessive worry', 'w2c2509': 'Feeling something bad will happen', 'w2c2510': 'Too energetic to concentrate in class', 'w2c2601': 'Usually I can recover from the feelings mentioned above very soon by myself', 'w2c2602': 'Usually I can recover from these feelings very soon with the help of others', 'w2c2603': 'my teacher would ignore and isolate me', 'w2c2604': 'my teacher would criticize me in public', 'w2c2605': 'my teacher would criticize me privately', 'w2c2606': 'my teacher would try to help me', 'w2c2607': 'my teacher would ask my parents to help me together', 'w2d0101': 'Helping elders', 'w2d0102': 'Following orders and lining up', 'w2d0103': 'Being nice and honest', 'w2d0201': 'Cursing or saying swearwords', 'w2d0202': 'Quarreling with others', 'w2d0203': 'Having a fight with others', 'w2d0204': 'Bullying the weak', 'w2d0205': 'Having a violent temper', 'w2d0206': 'Unable to concentrate on one thing', 'w2d0207': 'Skipping classes, being absent, or truanting', 'w2d0208': 'Copying homework from others, or cheating in exams', 'w2d0209': 'Smoking, or drinking alcohol', 'w2d0210': 'Going to net bars or video arcade', 'w2d0301': \"I'm very shy\", 'w2d0302': 'Usually I would rather sit alone than join others', 'w2d0303': \"I seldom talk and mostly listen to them when I'm with schoolmates or peers\", 'w2d0304': 'There are some adults I respect and admire', 'w2d0305': 'I can chat with adults easily', 'w2d0306': 'I would apologize if I hurt others unintentionally', 'w2d0307': 'I would try to find other ways if I do something wrong', 'w2d0308': 'I can stay calm even in bad situations', 'w2d0309': 'Usually, I have confidence in my ability to fulfill my task', 'w2d04': 'Have you had romantic feelings for your opposite sex schoolmates or friends?', 'w2d05': 'Have you ever been in a relationship?', 'w2d0601': 'Holding hands', 'w2d0602': 'Kissing', 'w2d0603': 'Other more intimate physical contacts', 'w2d0604': 'None of the above', 'w2d07': 'the attitude of your peers toward junior high students having relationships?', 'w2d08': 'attitude of teachers and elders toward junior high students having a romance?', 'w2d09': 'How many best friends do you have?', 'w2d10b01': 'Gender-1-your best friends', 'w2d10c01': 'Location of Hukou-1-your best friends', 'w2d10d01': 'Does he/she attend the same school with you?-1-your best friends', 'w2d10e01': 'Is he/she in the same class with you?-1-your best friends', 'w2d10b02': 'Gender-2-your best friends', 'w2d10c02': 'Location of Hukou-2-your best friends', 'w2d10d02': 'Does he/she attend the same school with you?-2-your best friends', 'w2d10e02': 'Is he/she in the same class with you?-2-your best friends', 'w2d10b03': 'Gender-3-your best friends', 'w2d10c03': 'Location of Hukou-3-your best friends', 'w2d10d03': 'Does he/she attend the same school with you?-3-your best friends', 'w2d10e03': 'Is he/she in the same class with you?-3-your best friends', 'w2d10b04': 'Gender-4-your best friends', 'w2d10c04': 'Location of Hukou-4-your best friends', 'w2d10d04': 'Does he/she attend the same school with you?-4-your best friends', 'w2d10e04': 'Is he/she in the same class with you?-4-your best friends', 'w2d10b05': 'Gender-5-your best friends', 'w2d10c05': 'Location of Hukou-5-your best friends', 'w2d10d05': 'Does he/she attend the same school with you?-5-your best friends', 'w2d10e05': 'Is he/she in the same class with you?-5-your best friends', 'w2d1101': 'Doing well in academic performance', 'w2d1102': 'Studying hard', 'w2d1103': 'Expecting to go to college', 'w2d1104': 'Skipping classes', 'w2d1105': 'Criticized or punished for violating school rules', 'w2d1106': 'Always fighting with others', 'w2d1107': 'Smoking or drinking alcohol', 'w2d1108': 'Always going to net bars or video arcade', 'w2d1109': 'Having had or is having a romance', 'w2d1110': 'Dropped out of school', 'w2d12': 'Who will be the first one for you to turn to when you want to chat with someone?', 'w2d13': 'Who will be the first one for you to turn to when you are in trouble?', 'w2d14': 'Who will be the first one for you to turn to when you need help?', 'w2d15': 'Will your local classmates make friends with non-local urban classmates?', 'w2d16': 'Will your local classmates make friends with non-local rural classmates?'}\n"
     ]
    }
   ],
   "source": [
    "print(variable_labels2)"
   ]
  },
  {
   "cell_type": "markdown",
   "metadata": {
    "pycharm": {
     "name": "#%% md\n"
    }
   },
   "source": [
    "### Filter useful data out"
   ]
  },
  {
   "cell_type": "markdown",
   "metadata": {
    "pycharm": {
     "name": "#%% md\n"
    }
   },
   "source": [
    "#### 1. Data Cleaning\n",
    "The key variables we select for the study is the weight, height for 2013-2014 data and test scores\n",
    "for 2014-2015 data"
   ]
  },
  {
   "cell_type": "code",
   "execution_count": 7,
   "metadata": {
    "pycharm": {
     "name": "#%%\n"
    }
   },
   "outputs": [],
   "source": [
    "data13t14 = pd.DataFrame(data,columns=['ids','clsids','schids','ctyids','frame','subsample','fall','sweight',\n",
    "                                     'stcog','cog3pl','tr_chn','tr_mat','tr_eng','a13','a14','a15','a15a','a15b'])\n",
    "data13t14BMI = pd.DataFrame(data,columns=['ids','clsids','schids','ctyids','frame','subsample','fall','sweight',\n",
    "                                     'a13','a14','a15'])\n",
    "data14t15 = pd.DataFrame(data2,columns=['ids','clsids','schids','ctyids','w2frame','w2subsample','w2fall','w2sweight',\n",
    "                                        'w2cogscore','w2cog3pl','w2chn','w2mat','w2eng','w2c01','w2c02','w2c09','w2c09a','w2c09b'])\n",
    "data14t15score = pd.DataFrame(data2,columns=['ids','clsids','schids','ctyids','w2frame','w2subsample','w2fall','w2sweight',\n",
    "                                        'w2cogscore','w2cog3pl','w2chn','w2mat','w2eng'])"
   ]
  },
  {
   "cell_type": "code",
   "execution_count": 8,
   "metadata": {
    "pycharm": {
     "name": "#%%\n"
    }
   },
   "outputs": [],
   "source": [
    "data_inter = pd.merge(data13t14BMI,data14t15score,on=['ids','clsids','schids','ctyids'],how='inner')"
   ]
  },
  {
   "cell_type": "markdown",
   "metadata": {
    "pycharm": {
     "name": "#%% md\n"
    }
   },
   "source": [
    "delete nan value"
   ]
  },
  {
   "cell_type": "code",
   "execution_count": 9,
   "outputs": [],
   "source": [
    "data_nonan = data_inter.dropna(axis=0,how='any')"
   ],
   "metadata": {
    "collapsed": false,
    "pycharm": {
     "name": "#%%\n"
    }
   }
  },
  {
   "cell_type": "markdown",
   "metadata": {
    "pycharm": {
     "name": "#%% md\n"
    }
   },
   "source": [
    "make poor eyesight 1 or 0"
   ]
  },
  {
   "cell_type": "code",
   "execution_count": 10,
   "outputs": [
    {
     "name": "stderr",
     "output_type": "stream",
     "text": [
      "C:\\Users\\IT\\anaconda3\\envs\\cs324\\lib\\site-packages\\pandas\\core\\series.py:4509: SettingWithCopyWarning: \n",
      "A value is trying to be set on a copy of a slice from a DataFrame\n",
      "\n",
      "See the caveats in the documentation: https://pandas.pydata.org/pandas-docs/stable/user_guide/indexing.html#returning-a-view-versus-a-copy\n",
      "  return super().replace(\n"
     ]
    }
   ],
   "source": [
    "data_nonan['a15'].replace(2.0,1.0,inplace=True) # poor eyesight to 1\n",
    "data_nonan['a15'].replace(3.0,0.0,inplace=True) # not myopia to 0"
   ],
   "metadata": {
    "collapsed": false,
    "pycharm": {
     "name": "#%%\n"
    }
   }
  },
  {
   "cell_type": "markdown",
   "source": [
    "delete wrong score"
   ],
   "metadata": {
    "collapsed": false,
    "pycharm": {
     "name": "#%% md\n"
    }
   }
  },
  {
   "cell_type": "code",
   "execution_count": 11,
   "outputs": [
    {
     "name": "stdout",
     "output_type": "stream",
     "text": [
      "<class 'pandas.core.frame.DataFrame'>\n",
      "Int64Index: 5787 entries, 0 to 10278\n",
      "Data columns (total 20 columns):\n",
      " #   Column       Non-Null Count  Dtype  \n",
      "---  ------       --------------  -----  \n",
      " 0   ids          5787 non-null   int16  \n",
      " 1   clsids       5787 non-null   int16  \n",
      " 2   schids       5787 non-null   int16  \n",
      " 3   ctyids       5787 non-null   int8   \n",
      " 4   frame        5787 non-null   int8   \n",
      " 5   subsample    5787 non-null   int8   \n",
      " 6   fall         5787 non-null   int8   \n",
      " 7   sweight      5787 non-null   float32\n",
      " 8   a13          5787 non-null   float64\n",
      " 9   a14          5787 non-null   float64\n",
      " 10  a15          5787 non-null   float64\n",
      " 11  w2frame      5787 non-null   int8   \n",
      " 12  w2subsample  5787 non-null   int8   \n",
      " 13  w2fall       5787 non-null   int8   \n",
      " 14  w2sweight    5787 non-null   float32\n",
      " 15  w2cogscore   5787 non-null   int8   \n",
      " 16  w2cog3pl     5787 non-null   float64\n",
      " 17  w2chn        5787 non-null   float32\n",
      " 18  w2mat        5787 non-null   float32\n",
      " 19  w2eng        5787 non-null   float32\n",
      "dtypes: float32(5), float64(4), int16(3), int8(8)\n",
      "memory usage: 418.2 KB\n"
     ]
    }
   ],
   "source": [
    "data_ = data_nonan.loc[data_nonan['w2chn']<=100]\n",
    "data_ = data_.loc[data_['w2eng']<=100]\n",
    "data_ = data_.loc[data_['w2mat']<=100]\n",
    "data_.info()"
   ],
   "metadata": {
    "collapsed": false,
    "pycharm": {
     "name": "#%%\n"
    }
   }
  },
  {
   "cell_type": "markdown",
   "source": [
    "#### Prepare data for experiments with control variable"
   ],
   "metadata": {
    "collapsed": false,
    "pycharm": {
     "name": "#%% md\n"
    }
   }
  },
  {
   "cell_type": "code",
   "execution_count": 12,
   "outputs": [
    {
     "data": {
      "text/plain": "   ids  clsids  schids  ctyids  stsex    a13    a14  a15    cog3pl  sthktype  \\\n0    1       1       1       1      0  154.0   76.0  1.0  0.128507         0   \n1    2       1       1       1      1  169.0   90.0  3.0  1.235879         0   \n2    3       1       1       1      1  176.0  120.0  1.0  0.083937         1   \n3    4       1       1       1      0  160.0   90.0  1.0 -0.522185         0   \n4    5       1       1       1      0  167.0  150.0  1.0  0.036172         1   \n\n   stonly  steco_5c  b31  stmedu  stfedu  w2a0801  w2b18  w2chn  w2mat  w2eng  \n0       1       4.0  8.0     3.0     3.0      1.0    9.0   82.0   91.0   82.0  \n1       1       3.0  7.0     8.0     5.0      1.0    9.0   95.0   63.0   83.0  \n2       2       3.0  7.0     3.0     3.0      1.0    7.0   89.0   68.0   74.0  \n3       1       3.0  3.0     6.0     7.0      1.0    7.0   85.0   80.0   63.0  \n4       1       4.0  7.0     7.0     8.0      1.0    8.0   91.0   73.0   84.0  ",
      "text/html": "<div>\n<style scoped>\n    .dataframe tbody tr th:only-of-type {\n        vertical-align: middle;\n    }\n\n    .dataframe tbody tr th {\n        vertical-align: top;\n    }\n\n    .dataframe thead th {\n        text-align: right;\n    }\n</style>\n<table border=\"1\" class=\"dataframe\">\n  <thead>\n    <tr style=\"text-align: right;\">\n      <th></th>\n      <th>ids</th>\n      <th>clsids</th>\n      <th>schids</th>\n      <th>ctyids</th>\n      <th>stsex</th>\n      <th>a13</th>\n      <th>a14</th>\n      <th>a15</th>\n      <th>cog3pl</th>\n      <th>sthktype</th>\n      <th>stonly</th>\n      <th>steco_5c</th>\n      <th>b31</th>\n      <th>stmedu</th>\n      <th>stfedu</th>\n      <th>w2a0801</th>\n      <th>w2b18</th>\n      <th>w2chn</th>\n      <th>w2mat</th>\n      <th>w2eng</th>\n    </tr>\n  </thead>\n  <tbody>\n    <tr>\n      <th>0</th>\n      <td>1</td>\n      <td>1</td>\n      <td>1</td>\n      <td>1</td>\n      <td>0</td>\n      <td>154.0</td>\n      <td>76.0</td>\n      <td>1.0</td>\n      <td>0.128507</td>\n      <td>0</td>\n      <td>1</td>\n      <td>4.0</td>\n      <td>8.0</td>\n      <td>3.0</td>\n      <td>3.0</td>\n      <td>1.0</td>\n      <td>9.0</td>\n      <td>82.0</td>\n      <td>91.0</td>\n      <td>82.0</td>\n    </tr>\n    <tr>\n      <th>1</th>\n      <td>2</td>\n      <td>1</td>\n      <td>1</td>\n      <td>1</td>\n      <td>1</td>\n      <td>169.0</td>\n      <td>90.0</td>\n      <td>3.0</td>\n      <td>1.235879</td>\n      <td>0</td>\n      <td>1</td>\n      <td>3.0</td>\n      <td>7.0</td>\n      <td>8.0</td>\n      <td>5.0</td>\n      <td>1.0</td>\n      <td>9.0</td>\n      <td>95.0</td>\n      <td>63.0</td>\n      <td>83.0</td>\n    </tr>\n    <tr>\n      <th>2</th>\n      <td>3</td>\n      <td>1</td>\n      <td>1</td>\n      <td>1</td>\n      <td>1</td>\n      <td>176.0</td>\n      <td>120.0</td>\n      <td>1.0</td>\n      <td>0.083937</td>\n      <td>1</td>\n      <td>2</td>\n      <td>3.0</td>\n      <td>7.0</td>\n      <td>3.0</td>\n      <td>3.0</td>\n      <td>1.0</td>\n      <td>7.0</td>\n      <td>89.0</td>\n      <td>68.0</td>\n      <td>74.0</td>\n    </tr>\n    <tr>\n      <th>3</th>\n      <td>4</td>\n      <td>1</td>\n      <td>1</td>\n      <td>1</td>\n      <td>0</td>\n      <td>160.0</td>\n      <td>90.0</td>\n      <td>1.0</td>\n      <td>-0.522185</td>\n      <td>0</td>\n      <td>1</td>\n      <td>3.0</td>\n      <td>3.0</td>\n      <td>6.0</td>\n      <td>7.0</td>\n      <td>1.0</td>\n      <td>7.0</td>\n      <td>85.0</td>\n      <td>80.0</td>\n      <td>63.0</td>\n    </tr>\n    <tr>\n      <th>4</th>\n      <td>5</td>\n      <td>1</td>\n      <td>1</td>\n      <td>1</td>\n      <td>0</td>\n      <td>167.0</td>\n      <td>150.0</td>\n      <td>1.0</td>\n      <td>0.036172</td>\n      <td>1</td>\n      <td>1</td>\n      <td>4.0</td>\n      <td>7.0</td>\n      <td>7.0</td>\n      <td>8.0</td>\n      <td>1.0</td>\n      <td>8.0</td>\n      <td>91.0</td>\n      <td>73.0</td>\n      <td>84.0</td>\n    </tr>\n  </tbody>\n</table>\n</div>"
     },
     "execution_count": 12,
     "metadata": {},
     "output_type": "execute_result"
    }
   ],
   "source": [
    "# X:\n",
    "# 13t14's 身高，体重，是否近视，认知测试标准分，户口类型，是否独生子女，经济条件，教育期望，母亲教育程度，父亲教育程度\n",
    "# 14t15's 希望读书到什么程度，父母婚姻状况\n",
    "# Y：\n",
    "# 14t15’s 期中语文，数学，英语成绩（百分制）\n",
    "data13t14_ = pd.DataFrame(data,columns=['ids','clsids','schids','ctyids','stsex','a13','a14','a15','cog3pl','sthktype','stonly','steco_5c',\n",
    "                                         'b31','stmedu','stfedu'])\n",
    "data14t15_ = pd.DataFrame(data2,columns=['ids','clsids','schids','ctyids','w2a0801','w2b18','w2chn','w2mat','w2eng'])\n",
    "data_xy = pd.merge(data13t14_,data14t15_,on=['ids','clsids','schids','ctyids'],how='inner')\n",
    "data_xy.head()"
   ],
   "metadata": {
    "collapsed": false,
    "pycharm": {
     "name": "#%%\n"
    }
   }
  },
  {
   "cell_type": "code",
   "execution_count": 13,
   "outputs": [],
   "source": [
    "# Delete student samples with nan data\n",
    "data_xy.dropna(axis=0,how='any',inplace=True)"
   ],
   "metadata": {
    "collapsed": false,
    "pycharm": {
     "name": "#%%\n"
    }
   }
  },
  {
   "cell_type": "code",
   "execution_count": 14,
   "outputs": [
    {
     "data": {
      "text/plain": "   ids  clsids  schids  ctyids  stsex   a13   a14  a15    cog3pl  sthktype  \\\n0    1       1       1       1      0  1.54  38.0  1.0  0.128507         0   \n1    2       1       1       1      1  1.69  45.0  0.0  1.235879         0   \n2    3       1       1       1      1  1.76  60.0  1.0  0.083937         1   \n3    4       1       1       1      0  1.60  45.0  1.0 -0.522185         0   \n4    5       1       1       1      0  1.67  75.0  1.0  0.036172         1   \n\n   ...  steco_5c  b31  stmedu  stfedu  w2a0801  w2b18  w2chn  w2mat  w2eng  \\\n0  ...       4.0  8.0     3.0     3.0      1.0    9.0   82.0   91.0   82.0   \n1  ...       3.0  7.0     8.0     5.0      1.0    9.0   95.0   63.0   83.0   \n2  ...       3.0  7.0     3.0     3.0      1.0    7.0   89.0   68.0   74.0   \n3  ...       3.0  3.0     6.0     7.0      1.0    7.0   85.0   80.0   63.0   \n4  ...       4.0  7.0     7.0     8.0      1.0    8.0   91.0   73.0   84.0   \n\n         BMI  \n0  16.022938  \n1  15.755751  \n2  19.369835  \n3  17.578125  \n4  26.892323  \n\n[5 rows x 21 columns]",
      "text/html": "<div>\n<style scoped>\n    .dataframe tbody tr th:only-of-type {\n        vertical-align: middle;\n    }\n\n    .dataframe tbody tr th {\n        vertical-align: top;\n    }\n\n    .dataframe thead th {\n        text-align: right;\n    }\n</style>\n<table border=\"1\" class=\"dataframe\">\n  <thead>\n    <tr style=\"text-align: right;\">\n      <th></th>\n      <th>ids</th>\n      <th>clsids</th>\n      <th>schids</th>\n      <th>ctyids</th>\n      <th>stsex</th>\n      <th>a13</th>\n      <th>a14</th>\n      <th>a15</th>\n      <th>cog3pl</th>\n      <th>sthktype</th>\n      <th>...</th>\n      <th>steco_5c</th>\n      <th>b31</th>\n      <th>stmedu</th>\n      <th>stfedu</th>\n      <th>w2a0801</th>\n      <th>w2b18</th>\n      <th>w2chn</th>\n      <th>w2mat</th>\n      <th>w2eng</th>\n      <th>BMI</th>\n    </tr>\n  </thead>\n  <tbody>\n    <tr>\n      <th>0</th>\n      <td>1</td>\n      <td>1</td>\n      <td>1</td>\n      <td>1</td>\n      <td>0</td>\n      <td>1.54</td>\n      <td>38.0</td>\n      <td>1.0</td>\n      <td>0.128507</td>\n      <td>0</td>\n      <td>...</td>\n      <td>4.0</td>\n      <td>8.0</td>\n      <td>3.0</td>\n      <td>3.0</td>\n      <td>1.0</td>\n      <td>9.0</td>\n      <td>82.0</td>\n      <td>91.0</td>\n      <td>82.0</td>\n      <td>16.022938</td>\n    </tr>\n    <tr>\n      <th>1</th>\n      <td>2</td>\n      <td>1</td>\n      <td>1</td>\n      <td>1</td>\n      <td>1</td>\n      <td>1.69</td>\n      <td>45.0</td>\n      <td>0.0</td>\n      <td>1.235879</td>\n      <td>0</td>\n      <td>...</td>\n      <td>3.0</td>\n      <td>7.0</td>\n      <td>8.0</td>\n      <td>5.0</td>\n      <td>1.0</td>\n      <td>9.0</td>\n      <td>95.0</td>\n      <td>63.0</td>\n      <td>83.0</td>\n      <td>15.755751</td>\n    </tr>\n    <tr>\n      <th>2</th>\n      <td>3</td>\n      <td>1</td>\n      <td>1</td>\n      <td>1</td>\n      <td>1</td>\n      <td>1.76</td>\n      <td>60.0</td>\n      <td>1.0</td>\n      <td>0.083937</td>\n      <td>1</td>\n      <td>...</td>\n      <td>3.0</td>\n      <td>7.0</td>\n      <td>3.0</td>\n      <td>3.0</td>\n      <td>1.0</td>\n      <td>7.0</td>\n      <td>89.0</td>\n      <td>68.0</td>\n      <td>74.0</td>\n      <td>19.369835</td>\n    </tr>\n    <tr>\n      <th>3</th>\n      <td>4</td>\n      <td>1</td>\n      <td>1</td>\n      <td>1</td>\n      <td>0</td>\n      <td>1.60</td>\n      <td>45.0</td>\n      <td>1.0</td>\n      <td>-0.522185</td>\n      <td>0</td>\n      <td>...</td>\n      <td>3.0</td>\n      <td>3.0</td>\n      <td>6.0</td>\n      <td>7.0</td>\n      <td>1.0</td>\n      <td>7.0</td>\n      <td>85.0</td>\n      <td>80.0</td>\n      <td>63.0</td>\n      <td>17.578125</td>\n    </tr>\n    <tr>\n      <th>4</th>\n      <td>5</td>\n      <td>1</td>\n      <td>1</td>\n      <td>1</td>\n      <td>0</td>\n      <td>1.67</td>\n      <td>75.0</td>\n      <td>1.0</td>\n      <td>0.036172</td>\n      <td>1</td>\n      <td>...</td>\n      <td>4.0</td>\n      <td>7.0</td>\n      <td>7.0</td>\n      <td>8.0</td>\n      <td>1.0</td>\n      <td>8.0</td>\n      <td>91.0</td>\n      <td>73.0</td>\n      <td>84.0</td>\n      <td>26.892323</td>\n    </tr>\n  </tbody>\n</table>\n<p>5 rows × 21 columns</p>\n</div>"
     },
     "execution_count": 14,
     "metadata": {},
     "output_type": "execute_result"
    }
   ],
   "source": [
    "# Delete samples with improper score or other variables\n",
    "data_xy = data_xy.loc[data_xy['w2chn']<=100]\n",
    "data_xy = data_xy.loc[data_xy['w2eng']<=100]\n",
    "data_xy = data_xy.loc[data_xy['w2mat']<=100]\n",
    "data_xy['a15'].replace(2.0,1.0,inplace=True) # poor eyesight to 1\n",
    "data_xy['a15'].replace(3.0,0.0,inplace=True) # not myopia to 0\n",
    "data_xy['a13'] = data_xy['a13'].apply(lambda x:x/100)\n",
    "data_xy['a14'] = data_xy['a14'].apply(lambda x:x/2)\n",
    "data_xy['BMI'] = data_xy['a14']/(data_xy['a13']*data_xy['a13'])\n",
    "data_xy.head()"
   ],
   "metadata": {
    "collapsed": false,
    "pycharm": {
     "name": "#%%\n"
    }
   }
  },
  {
   "cell_type": "markdown",
   "metadata": {
    "pycharm": {
     "name": "#%% md\n"
    }
   },
   "source": [
    "#### Descriptive Analysis"
   ]
  },
  {
   "cell_type": "markdown",
   "source": [
    "##### For only x and y"
   ],
   "metadata": {
    "collapsed": false,
    "pycharm": {
     "name": "#%% md\n"
    }
   }
  },
  {
   "cell_type": "code",
   "execution_count": 26,
   "metadata": {
    "pycharm": {
     "name": "#%%\n"
    }
   },
   "outputs": [
    {
     "name": "stdout",
     "output_type": "stream",
     "text": [
      "<class 'pandas.core.frame.DataFrame'>\n",
      "Int64Index: 5127 entries, 0 to 10278\n",
      "Data columns (total 19 columns):\n",
      " #   Column   Non-Null Count  Dtype  \n",
      "---  ------   --------------  -----  \n",
      " 0   ids      5127 non-null   int16  \n",
      " 1   clsids   5127 non-null   int16  \n",
      " 2   schids   5127 non-null   int16  \n",
      " 3   ctyids   5127 non-null   int8   \n",
      " 4   a13      5127 non-null   float64\n",
      " 5   a14      5127 non-null   float64\n",
      " 6   a15      5127 non-null   float64\n",
      " 7   cog3pl   5127 non-null   float32\n",
      " 8   a06      5127 non-null   float64\n",
      " 9   b01      5127 non-null   float64\n",
      " 10  b09      5127 non-null   float64\n",
      " 11  b31      5127 non-null   float64\n",
      " 12  stmedu   5127 non-null   float64\n",
      " 13  stfedu   5127 non-null   float64\n",
      " 14  w2a0801  5127 non-null   float64\n",
      " 15  w2b18    5127 non-null   float64\n",
      " 16  w2chn    5127 non-null   float32\n",
      " 17  w2mat    5127 non-null   float32\n",
      " 18  w2eng    5127 non-null   float32\n",
      "dtypes: float32(4), float64(11), int16(3), int8(1)\n",
      "memory usage: 595.8 KB\n",
      "None\n"
     ]
    }
   ],
   "source": [
    "print(data_.info())"
   ]
  },
  {
   "cell_type": "code",
   "execution_count": 15,
   "metadata": {
    "pycharm": {
     "name": "#%%\n"
    }
   },
   "outputs": [],
   "source": [
    "data_.rename(columns={'a13':'1314身高','a14':'1314体重','a15':'是否近视','w2cogscore':'认知测试原始总分','w2cog3pl':'认知测试标准化得分',\n",
    "                           'w2chn':'期中语文','w2mat':'期中数学','w2eng':'期中英语'},inplace=True)\n",
    "data_des = data_.describe()"
   ]
  },
  {
   "cell_type": "code",
   "execution_count": 16,
   "metadata": {
    "pycharm": {
     "name": "#%%\n"
    }
   },
   "outputs": [
    {
     "data": {
      "text/plain": "            1314身高       1314体重         是否近视     认知测试原始总分    认知测试标准化得分  \\\ncount  5787.000000  5787.000000  5787.000000  5787.000000  5787.000000   \nmean    158.592535    93.912390     0.525488    22.639710     0.242947   \nstd       8.472717    22.390991     0.499393     6.410028     0.825728   \nmin     130.000000    50.000000     0.000000     0.000000    -3.136649   \n25%     153.000000    80.000000     0.000000    18.000000    -0.304220   \n50%     159.000000    90.000000     1.000000    23.000000     0.361397   \n75%     165.000000   104.000000     1.000000    28.000000     0.839252   \nmax     190.000000   210.000000     1.000000    35.000000     2.062761   \n\n              期中语文         期中数学         期中英语  \ncount  5787.000000  5787.000000  5787.000000  \nmean     74.497406    65.303009    64.326912  \nstd      15.454585    25.870459    24.322811  \nmin       0.000000     0.000000     0.000000  \n25%      67.000000    46.000000    45.000000  \n50%      77.000000    72.000000    69.500000  \n75%      85.000000    87.000000    86.000000  \nmax     100.000000   100.000000   100.000000  ",
      "text/html": "<div>\n<style scoped>\n    .dataframe tbody tr th:only-of-type {\n        vertical-align: middle;\n    }\n\n    .dataframe tbody tr th {\n        vertical-align: top;\n    }\n\n    .dataframe thead th {\n        text-align: right;\n    }\n</style>\n<table border=\"1\" class=\"dataframe\">\n  <thead>\n    <tr style=\"text-align: right;\">\n      <th></th>\n      <th>1314身高</th>\n      <th>1314体重</th>\n      <th>是否近视</th>\n      <th>认知测试原始总分</th>\n      <th>认知测试标准化得分</th>\n      <th>期中语文</th>\n      <th>期中数学</th>\n      <th>期中英语</th>\n    </tr>\n  </thead>\n  <tbody>\n    <tr>\n      <th>count</th>\n      <td>5787.000000</td>\n      <td>5787.000000</td>\n      <td>5787.000000</td>\n      <td>5787.000000</td>\n      <td>5787.000000</td>\n      <td>5787.000000</td>\n      <td>5787.000000</td>\n      <td>5787.000000</td>\n    </tr>\n    <tr>\n      <th>mean</th>\n      <td>158.592535</td>\n      <td>93.912390</td>\n      <td>0.525488</td>\n      <td>22.639710</td>\n      <td>0.242947</td>\n      <td>74.497406</td>\n      <td>65.303009</td>\n      <td>64.326912</td>\n    </tr>\n    <tr>\n      <th>std</th>\n      <td>8.472717</td>\n      <td>22.390991</td>\n      <td>0.499393</td>\n      <td>6.410028</td>\n      <td>0.825728</td>\n      <td>15.454585</td>\n      <td>25.870459</td>\n      <td>24.322811</td>\n    </tr>\n    <tr>\n      <th>min</th>\n      <td>130.000000</td>\n      <td>50.000000</td>\n      <td>0.000000</td>\n      <td>0.000000</td>\n      <td>-3.136649</td>\n      <td>0.000000</td>\n      <td>0.000000</td>\n      <td>0.000000</td>\n    </tr>\n    <tr>\n      <th>25%</th>\n      <td>153.000000</td>\n      <td>80.000000</td>\n      <td>0.000000</td>\n      <td>18.000000</td>\n      <td>-0.304220</td>\n      <td>67.000000</td>\n      <td>46.000000</td>\n      <td>45.000000</td>\n    </tr>\n    <tr>\n      <th>50%</th>\n      <td>159.000000</td>\n      <td>90.000000</td>\n      <td>1.000000</td>\n      <td>23.000000</td>\n      <td>0.361397</td>\n      <td>77.000000</td>\n      <td>72.000000</td>\n      <td>69.500000</td>\n    </tr>\n    <tr>\n      <th>75%</th>\n      <td>165.000000</td>\n      <td>104.000000</td>\n      <td>1.000000</td>\n      <td>28.000000</td>\n      <td>0.839252</td>\n      <td>85.000000</td>\n      <td>87.000000</td>\n      <td>86.000000</td>\n    </tr>\n    <tr>\n      <th>max</th>\n      <td>190.000000</td>\n      <td>210.000000</td>\n      <td>1.000000</td>\n      <td>35.000000</td>\n      <td>2.062761</td>\n      <td>100.000000</td>\n      <td>100.000000</td>\n      <td>100.000000</td>\n    </tr>\n  </tbody>\n</table>\n</div>"
     },
     "execution_count": 16,
     "metadata": {},
     "output_type": "execute_result"
    }
   ],
   "source": [
    "data_des.drop(['ids','clsids','schids','ctyids','frame','subsample','fall','sweight','w2frame','w2subsample','w2fall','w2sweight'],axis=1,inplace=True)\n",
    "data_des"
   ]
  },
  {
   "cell_type": "markdown",
   "source": [
    "##### For x,y and control variables"
   ],
   "metadata": {
    "collapsed": false,
    "pycharm": {
     "name": "#%% md\n"
    }
   }
  },
  {
   "cell_type": "code",
   "execution_count": 17,
   "outputs": [],
   "source": [
    "data_xy.rename(columns={'stsex':'性别','a13':'1314身高','a14':'1314体重','a15':'是否近视','cog3pl':'基线认知测试标准分','sthktype':'户口类型',\n",
    "                           'stonly':'是否独生子女','steco_5c':'经济条件','b31':'父母教育期望','stmedu':'母亲教育程度','stfedu':'父亲教育程度',\n",
    "                        'w2a0801':'父母婚姻状况','w2b18':'自己教育期望','w2chn':'期中语文','w2mat':'期中数学','w2eng':'期中英语'},inplace=True)\n",
    "data_xy['平均分']=(data_xy['期中语文']+data_xy['期中数学']+data_xy['期中英语'])/3\n",
    "data_xy.drop(['ids','clsids','schids','ctyids'],axis=1,inplace=True)"
   ],
   "metadata": {
    "collapsed": false,
    "pycharm": {
     "name": "#%%\n"
    }
   }
  },
  {
   "cell_type": "code",
   "execution_count": 18,
   "outputs": [
    {
     "data": {
      "text/plain": "                性别       1314身高       1314体重         是否近视    基线认知测试标准分  \\\ncount  5702.000000  5702.000000  5702.000000  5702.000000  5702.000000   \nmean      0.551035     1.586170    46.981147     0.524202     0.006833   \nstd       0.497432     0.084166    11.174500     0.499458     0.857742   \nmin       0.000000     1.300000    25.000000     0.000000    -2.028966   \n25%       0.000000     1.530000    40.000000     0.000000    -0.561718   \n50%       1.000000     1.590000    45.000000     1.000000    -0.019050   \n75%       1.000000     1.650000    52.000000     1.000000     0.606752   \nmax       1.000000     1.900000   105.000000     1.000000     2.333043   \n\n              户口类型       是否独生子女         经济条件       父母教育期望       母亲教育程度  \\\ncount  5702.000000  5702.000000  5702.000000  5702.000000  5702.000000   \nmean      0.526307     1.540512     2.821642     6.809014     3.921256   \nstd       0.499351     0.498400     0.606000     1.667240     1.974742   \nmin       0.000000     1.000000     1.000000     1.000000     1.000000   \n25%       0.000000     1.000000     3.000000     6.000000     3.000000   \n50%       1.000000     2.000000     3.000000     7.000000     3.000000   \n75%       1.000000     2.000000     3.000000     8.000000     6.000000   \nmax       1.000000     2.000000     5.000000    10.000000     9.000000   \n\n            父亲教育程度       父母婚姻状况       自己教育期望         期中语文         期中数学  \\\ncount  5702.000000  5702.000000  5702.000000  5702.000000  5702.000000   \nmean      4.279551     0.915819     6.773939    74.501404    65.310509   \nstd       1.991580     0.277683     1.757915    15.516328    25.890614   \nmin       1.000000     0.000000     1.000000     0.000000     0.000000   \n25%       3.000000     1.000000     6.000000    67.000000    46.000000   \n50%       3.000000     1.000000     7.000000    77.000000    72.000000   \n75%       6.000000     1.000000     8.000000    85.000000    87.000000   \nmax       9.000000     1.000000    10.000000   100.000000   100.000000   \n\n              期中英语          BMI          平均分  \ncount  5702.000000  5702.000000  5702.000000  \nmean     64.280312    18.558501    68.030731  \nstd      24.306482     3.576001    18.725079  \nmin       0.000000     8.549639     0.000000  \n25%      45.000000    16.406250    55.333332  \n50%      69.000000    17.968750    72.333336  \n75%      85.500000    20.060954    83.500000  \nmax     100.000000    55.144033    99.000000  ",
      "text/html": "<div>\n<style scoped>\n    .dataframe tbody tr th:only-of-type {\n        vertical-align: middle;\n    }\n\n    .dataframe tbody tr th {\n        vertical-align: top;\n    }\n\n    .dataframe thead th {\n        text-align: right;\n    }\n</style>\n<table border=\"1\" class=\"dataframe\">\n  <thead>\n    <tr style=\"text-align: right;\">\n      <th></th>\n      <th>性别</th>\n      <th>1314身高</th>\n      <th>1314体重</th>\n      <th>是否近视</th>\n      <th>基线认知测试标准分</th>\n      <th>户口类型</th>\n      <th>是否独生子女</th>\n      <th>经济条件</th>\n      <th>父母教育期望</th>\n      <th>母亲教育程度</th>\n      <th>父亲教育程度</th>\n      <th>父母婚姻状况</th>\n      <th>自己教育期望</th>\n      <th>期中语文</th>\n      <th>期中数学</th>\n      <th>期中英语</th>\n      <th>BMI</th>\n      <th>平均分</th>\n    </tr>\n  </thead>\n  <tbody>\n    <tr>\n      <th>count</th>\n      <td>5702.000000</td>\n      <td>5702.000000</td>\n      <td>5702.000000</td>\n      <td>5702.000000</td>\n      <td>5702.000000</td>\n      <td>5702.000000</td>\n      <td>5702.000000</td>\n      <td>5702.000000</td>\n      <td>5702.000000</td>\n      <td>5702.000000</td>\n      <td>5702.000000</td>\n      <td>5702.000000</td>\n      <td>5702.000000</td>\n      <td>5702.000000</td>\n      <td>5702.000000</td>\n      <td>5702.000000</td>\n      <td>5702.000000</td>\n      <td>5702.000000</td>\n    </tr>\n    <tr>\n      <th>mean</th>\n      <td>0.551035</td>\n      <td>1.586170</td>\n      <td>46.981147</td>\n      <td>0.524202</td>\n      <td>0.006833</td>\n      <td>0.526307</td>\n      <td>1.540512</td>\n      <td>2.821642</td>\n      <td>6.809014</td>\n      <td>3.921256</td>\n      <td>4.279551</td>\n      <td>0.915819</td>\n      <td>6.773939</td>\n      <td>74.501404</td>\n      <td>65.310509</td>\n      <td>64.280312</td>\n      <td>18.558501</td>\n      <td>68.030731</td>\n    </tr>\n    <tr>\n      <th>std</th>\n      <td>0.497432</td>\n      <td>0.084166</td>\n      <td>11.174500</td>\n      <td>0.499458</td>\n      <td>0.857742</td>\n      <td>0.499351</td>\n      <td>0.498400</td>\n      <td>0.606000</td>\n      <td>1.667240</td>\n      <td>1.974742</td>\n      <td>1.991580</td>\n      <td>0.277683</td>\n      <td>1.757915</td>\n      <td>15.516328</td>\n      <td>25.890614</td>\n      <td>24.306482</td>\n      <td>3.576001</td>\n      <td>18.725079</td>\n    </tr>\n    <tr>\n      <th>min</th>\n      <td>0.000000</td>\n      <td>1.300000</td>\n      <td>25.000000</td>\n      <td>0.000000</td>\n      <td>-2.028966</td>\n      <td>0.000000</td>\n      <td>1.000000</td>\n      <td>1.000000</td>\n      <td>1.000000</td>\n      <td>1.000000</td>\n      <td>1.000000</td>\n      <td>0.000000</td>\n      <td>1.000000</td>\n      <td>0.000000</td>\n      <td>0.000000</td>\n      <td>0.000000</td>\n      <td>8.549639</td>\n      <td>0.000000</td>\n    </tr>\n    <tr>\n      <th>25%</th>\n      <td>0.000000</td>\n      <td>1.530000</td>\n      <td>40.000000</td>\n      <td>0.000000</td>\n      <td>-0.561718</td>\n      <td>0.000000</td>\n      <td>1.000000</td>\n      <td>3.000000</td>\n      <td>6.000000</td>\n      <td>3.000000</td>\n      <td>3.000000</td>\n      <td>1.000000</td>\n      <td>6.000000</td>\n      <td>67.000000</td>\n      <td>46.000000</td>\n      <td>45.000000</td>\n      <td>16.406250</td>\n      <td>55.333332</td>\n    </tr>\n    <tr>\n      <th>50%</th>\n      <td>1.000000</td>\n      <td>1.590000</td>\n      <td>45.000000</td>\n      <td>1.000000</td>\n      <td>-0.019050</td>\n      <td>1.000000</td>\n      <td>2.000000</td>\n      <td>3.000000</td>\n      <td>7.000000</td>\n      <td>3.000000</td>\n      <td>3.000000</td>\n      <td>1.000000</td>\n      <td>7.000000</td>\n      <td>77.000000</td>\n      <td>72.000000</td>\n      <td>69.000000</td>\n      <td>17.968750</td>\n      <td>72.333336</td>\n    </tr>\n    <tr>\n      <th>75%</th>\n      <td>1.000000</td>\n      <td>1.650000</td>\n      <td>52.000000</td>\n      <td>1.000000</td>\n      <td>0.606752</td>\n      <td>1.000000</td>\n      <td>2.000000</td>\n      <td>3.000000</td>\n      <td>8.000000</td>\n      <td>6.000000</td>\n      <td>6.000000</td>\n      <td>1.000000</td>\n      <td>8.000000</td>\n      <td>85.000000</td>\n      <td>87.000000</td>\n      <td>85.500000</td>\n      <td>20.060954</td>\n      <td>83.500000</td>\n    </tr>\n    <tr>\n      <th>max</th>\n      <td>1.000000</td>\n      <td>1.900000</td>\n      <td>105.000000</td>\n      <td>1.000000</td>\n      <td>2.333043</td>\n      <td>1.000000</td>\n      <td>2.000000</td>\n      <td>5.000000</td>\n      <td>10.000000</td>\n      <td>9.000000</td>\n      <td>9.000000</td>\n      <td>1.000000</td>\n      <td>10.000000</td>\n      <td>100.000000</td>\n      <td>100.000000</td>\n      <td>100.000000</td>\n      <td>55.144033</td>\n      <td>99.000000</td>\n    </tr>\n  </tbody>\n</table>\n</div>"
     },
     "execution_count": 18,
     "metadata": {},
     "output_type": "execute_result"
    }
   ],
   "source": [
    "data_xy.describe()"
   ],
   "metadata": {
    "collapsed": false,
    "pycharm": {
     "name": "#%%\n"
    }
   }
  },
  {
   "cell_type": "markdown",
   "source": [
    "In conclusion:<br>\n",
    "55% of the 5702 student samples are boys;<br>\n",
    "52% of the 5702 student samples are short-sighted;<br>\n",
    "52% of the 5702 student samples has agricultural account;<br>\n",
    "92% of the 5702 student samples has married parents;<br>\n",
    "The average economy circumstance is middle;<br>\n",
    "The average parental and self expectation for children's education is 7 —— university students;<br>\n",
    "Note:<br>\n",
    "heights are in meters, weights are in kgs, 0 represents yes, 1 represents no.<br>\n",
    "Other grading policy please refer to **the data manual**."
   ],
   "metadata": {
    "collapsed": false,
    "pycharm": {
     "name": "#%% md\n"
    }
   }
  },
  {
   "cell_type": "markdown",
   "source": [
    "###### Group by gender"
   ],
   "metadata": {
    "collapsed": false,
    "pycharm": {
     "name": "#%% md\n"
    }
   }
  },
  {
   "cell_type": "code",
   "execution_count": null,
   "outputs": [],
   "source": [
    "# data_xy_girl ="
   ],
   "metadata": {
    "collapsed": false,
    "pycharm": {
     "name": "#%%\n"
    }
   }
  },
  {
   "cell_type": "markdown",
   "metadata": {},
   "source": [
    "### Regression Analysis"
   ]
  },
  {
   "cell_type": "code",
   "execution_count": 25,
   "metadata": {
    "pycharm": {
     "name": "#%%\n"
    }
   },
   "outputs": [],
   "source": [
    "from sklearn import linear_model\n",
    "from sklearn.model_selection import train_test_split"
   ]
  },
  {
   "cell_type": "code",
   "execution_count": 19,
   "metadata": {},
   "outputs": [],
   "source": [
    "data_.drop(['ids','clsids','schids','ctyids','frame','subsample','fall','sweight','w2frame','w2subsample','w2fall','w2sweight'],axis=1,inplace=True)"
   ]
  },
  {
   "cell_type": "code",
   "execution_count": 21,
   "metadata": {
    "pycharm": {
     "name": "#%%\n"
    }
   },
   "outputs": [
    {
     "data": {
      "text/plain": "       1314身高  1314体重  是否近视  认知测试原始总分  认知测试标准化得分  期中语文  期中数学  期中英语\n0       154.0    76.0   1.0        26   0.544194  82.0  91.0  82.0\n1       169.0    90.0   0.0        26   0.898057  95.0  63.0  83.0\n2       176.0   120.0   1.0        29   0.842200  89.0  68.0  74.0\n3       160.0    90.0   1.0        17  -0.288543  85.0  80.0  63.0\n4       167.0   150.0   1.0        30   1.143127  91.0  73.0  84.0\n...       ...     ...   ...       ...        ...   ...   ...   ...\n10273   151.0    84.0   0.0        20  -0.154441  79.0  26.0  48.5\n10274   151.0    92.0   1.0        19  -0.073807  89.0  72.0  61.5\n10275   158.0    98.0   1.0        11  -0.803730  78.0  29.0  44.0\n10277   151.0    80.0   0.0        22  -0.006150  87.0  21.0  67.5\n10278   168.0    90.0   0.0        17  -0.425574  82.0  42.0  42.0\n\n[5787 rows x 8 columns]",
      "text/html": "<div>\n<style scoped>\n    .dataframe tbody tr th:only-of-type {\n        vertical-align: middle;\n    }\n\n    .dataframe tbody tr th {\n        vertical-align: top;\n    }\n\n    .dataframe thead th {\n        text-align: right;\n    }\n</style>\n<table border=\"1\" class=\"dataframe\">\n  <thead>\n    <tr style=\"text-align: right;\">\n      <th></th>\n      <th>1314身高</th>\n      <th>1314体重</th>\n      <th>是否近视</th>\n      <th>认知测试原始总分</th>\n      <th>认知测试标准化得分</th>\n      <th>期中语文</th>\n      <th>期中数学</th>\n      <th>期中英语</th>\n    </tr>\n  </thead>\n  <tbody>\n    <tr>\n      <th>0</th>\n      <td>154.0</td>\n      <td>76.0</td>\n      <td>1.0</td>\n      <td>26</td>\n      <td>0.544194</td>\n      <td>82.0</td>\n      <td>91.0</td>\n      <td>82.0</td>\n    </tr>\n    <tr>\n      <th>1</th>\n      <td>169.0</td>\n      <td>90.0</td>\n      <td>0.0</td>\n      <td>26</td>\n      <td>0.898057</td>\n      <td>95.0</td>\n      <td>63.0</td>\n      <td>83.0</td>\n    </tr>\n    <tr>\n      <th>2</th>\n      <td>176.0</td>\n      <td>120.0</td>\n      <td>1.0</td>\n      <td>29</td>\n      <td>0.842200</td>\n      <td>89.0</td>\n      <td>68.0</td>\n      <td>74.0</td>\n    </tr>\n    <tr>\n      <th>3</th>\n      <td>160.0</td>\n      <td>90.0</td>\n      <td>1.0</td>\n      <td>17</td>\n      <td>-0.288543</td>\n      <td>85.0</td>\n      <td>80.0</td>\n      <td>63.0</td>\n    </tr>\n    <tr>\n      <th>4</th>\n      <td>167.0</td>\n      <td>150.0</td>\n      <td>1.0</td>\n      <td>30</td>\n      <td>1.143127</td>\n      <td>91.0</td>\n      <td>73.0</td>\n      <td>84.0</td>\n    </tr>\n    <tr>\n      <th>...</th>\n      <td>...</td>\n      <td>...</td>\n      <td>...</td>\n      <td>...</td>\n      <td>...</td>\n      <td>...</td>\n      <td>...</td>\n      <td>...</td>\n    </tr>\n    <tr>\n      <th>10273</th>\n      <td>151.0</td>\n      <td>84.0</td>\n      <td>0.0</td>\n      <td>20</td>\n      <td>-0.154441</td>\n      <td>79.0</td>\n      <td>26.0</td>\n      <td>48.5</td>\n    </tr>\n    <tr>\n      <th>10274</th>\n      <td>151.0</td>\n      <td>92.0</td>\n      <td>1.0</td>\n      <td>19</td>\n      <td>-0.073807</td>\n      <td>89.0</td>\n      <td>72.0</td>\n      <td>61.5</td>\n    </tr>\n    <tr>\n      <th>10275</th>\n      <td>158.0</td>\n      <td>98.0</td>\n      <td>1.0</td>\n      <td>11</td>\n      <td>-0.803730</td>\n      <td>78.0</td>\n      <td>29.0</td>\n      <td>44.0</td>\n    </tr>\n    <tr>\n      <th>10277</th>\n      <td>151.0</td>\n      <td>80.0</td>\n      <td>0.0</td>\n      <td>22</td>\n      <td>-0.006150</td>\n      <td>87.0</td>\n      <td>21.0</td>\n      <td>67.5</td>\n    </tr>\n    <tr>\n      <th>10278</th>\n      <td>168.0</td>\n      <td>90.0</td>\n      <td>0.0</td>\n      <td>17</td>\n      <td>-0.425574</td>\n      <td>82.0</td>\n      <td>42.0</td>\n      <td>42.0</td>\n    </tr>\n  </tbody>\n</table>\n<p>5787 rows × 8 columns</p>\n</div>"
     },
     "execution_count": 21,
     "metadata": {},
     "output_type": "execute_result"
    }
   ],
   "source": [
    "X = data_.copy()\n",
    "X"
   ]
  },
  {
   "cell_type": "code",
   "execution_count": 22,
   "metadata": {
    "pycharm": {
     "name": "#%%\n"
    }
   },
   "outputs": [
    {
     "data": {
      "text/plain": "   1314身高  1314体重  是否近视  认知测试原始总分  认知测试标准化得分  期中语文  期中数学  期中英语        BMI\n0    1.54    38.0   1.0        26   0.544194  82.0  91.0  82.0  16.022938\n1    1.69    45.0   0.0        26   0.898057  95.0  63.0  83.0  15.755751\n2    1.76    60.0   1.0        29   0.842200  89.0  68.0  74.0  19.369835\n3    1.60    45.0   1.0        17  -0.288543  85.0  80.0  63.0  17.578125\n4    1.67    75.0   1.0        30   1.143127  91.0  73.0  84.0  26.892323",
      "text/html": "<div>\n<style scoped>\n    .dataframe tbody tr th:only-of-type {\n        vertical-align: middle;\n    }\n\n    .dataframe tbody tr th {\n        vertical-align: top;\n    }\n\n    .dataframe thead th {\n        text-align: right;\n    }\n</style>\n<table border=\"1\" class=\"dataframe\">\n  <thead>\n    <tr style=\"text-align: right;\">\n      <th></th>\n      <th>1314身高</th>\n      <th>1314体重</th>\n      <th>是否近视</th>\n      <th>认知测试原始总分</th>\n      <th>认知测试标准化得分</th>\n      <th>期中语文</th>\n      <th>期中数学</th>\n      <th>期中英语</th>\n      <th>BMI</th>\n    </tr>\n  </thead>\n  <tbody>\n    <tr>\n      <th>0</th>\n      <td>1.54</td>\n      <td>38.0</td>\n      <td>1.0</td>\n      <td>26</td>\n      <td>0.544194</td>\n      <td>82.0</td>\n      <td>91.0</td>\n      <td>82.0</td>\n      <td>16.022938</td>\n    </tr>\n    <tr>\n      <th>1</th>\n      <td>1.69</td>\n      <td>45.0</td>\n      <td>0.0</td>\n      <td>26</td>\n      <td>0.898057</td>\n      <td>95.0</td>\n      <td>63.0</td>\n      <td>83.0</td>\n      <td>15.755751</td>\n    </tr>\n    <tr>\n      <th>2</th>\n      <td>1.76</td>\n      <td>60.0</td>\n      <td>1.0</td>\n      <td>29</td>\n      <td>0.842200</td>\n      <td>89.0</td>\n      <td>68.0</td>\n      <td>74.0</td>\n      <td>19.369835</td>\n    </tr>\n    <tr>\n      <th>3</th>\n      <td>1.60</td>\n      <td>45.0</td>\n      <td>1.0</td>\n      <td>17</td>\n      <td>-0.288543</td>\n      <td>85.0</td>\n      <td>80.0</td>\n      <td>63.0</td>\n      <td>17.578125</td>\n    </tr>\n    <tr>\n      <th>4</th>\n      <td>1.67</td>\n      <td>75.0</td>\n      <td>1.0</td>\n      <td>30</td>\n      <td>1.143127</td>\n      <td>91.0</td>\n      <td>73.0</td>\n      <td>84.0</td>\n      <td>26.892323</td>\n    </tr>\n  </tbody>\n</table>\n</div>"
     },
     "execution_count": 22,
     "metadata": {},
     "output_type": "execute_result"
    }
   ],
   "source": [
    "# resize height to m, resize weight to kg,calculate BMI\n",
    "X['1314身高'] = X['1314身高'].apply(lambda x:x/100)\n",
    "X['1314体重'] = X['1314体重'].apply(lambda x:x/2)\n",
    "X['BMI'] = X['1314体重']/(X['1314身高']*X['1314身高'])\n",
    "X.head()"
   ]
  },
  {
   "cell_type": "code",
   "execution_count": 23,
   "metadata": {
    "pycharm": {
     "name": "#%%\n"
    }
   },
   "outputs": [
    {
     "data": {
      "text/plain": "   认知测试原始总分  认知测试标准化得分  期中语文  期中数学  期中英语\n0        26   0.544194  82.0  91.0  82.0\n1        26   0.898057  95.0  63.0  83.0\n2        29   0.842200  89.0  68.0  74.0\n3        17  -0.288543  85.0  80.0  63.0\n4        30   1.143127  91.0  73.0  84.0",
      "text/html": "<div>\n<style scoped>\n    .dataframe tbody tr th:only-of-type {\n        vertical-align: middle;\n    }\n\n    .dataframe tbody tr th {\n        vertical-align: top;\n    }\n\n    .dataframe thead th {\n        text-align: right;\n    }\n</style>\n<table border=\"1\" class=\"dataframe\">\n  <thead>\n    <tr style=\"text-align: right;\">\n      <th></th>\n      <th>认知测试原始总分</th>\n      <th>认知测试标准化得分</th>\n      <th>期中语文</th>\n      <th>期中数学</th>\n      <th>期中英语</th>\n    </tr>\n  </thead>\n  <tbody>\n    <tr>\n      <th>0</th>\n      <td>26</td>\n      <td>0.544194</td>\n      <td>82.0</td>\n      <td>91.0</td>\n      <td>82.0</td>\n    </tr>\n    <tr>\n      <th>1</th>\n      <td>26</td>\n      <td>0.898057</td>\n      <td>95.0</td>\n      <td>63.0</td>\n      <td>83.0</td>\n    </tr>\n    <tr>\n      <th>2</th>\n      <td>29</td>\n      <td>0.842200</td>\n      <td>89.0</td>\n      <td>68.0</td>\n      <td>74.0</td>\n    </tr>\n    <tr>\n      <th>3</th>\n      <td>17</td>\n      <td>-0.288543</td>\n      <td>85.0</td>\n      <td>80.0</td>\n      <td>63.0</td>\n    </tr>\n    <tr>\n      <th>4</th>\n      <td>30</td>\n      <td>1.143127</td>\n      <td>91.0</td>\n      <td>73.0</td>\n      <td>84.0</td>\n    </tr>\n  </tbody>\n</table>\n</div>"
     },
     "execution_count": 23,
     "metadata": {},
     "output_type": "execute_result"
    }
   ],
   "source": [
    "Y = X[['认知测试原始总分','认知测试标准化得分','期中语文','期中数学','期中英语']]\n",
    "X = X[['BMI','是否近视']]\n",
    "Y.head()"
   ]
  },
  {
   "cell_type": "code",
   "execution_count": 27,
   "metadata": {},
   "outputs": [
    {
     "name": "stderr",
     "output_type": "stream",
     "text": [
      "<ipython-input-27-1beb0de11ac6>:3: SettingWithCopyWarning: \n",
      "A value is trying to be set on a copy of a slice from a DataFrame.\n",
      "Try using .loc[row_indexer,col_indexer] = value instead\n",
      "\n",
      "See the caveats in the documentation: https://pandas.pydata.org/pandas-docs/stable/user_guide/indexing.html#returning-a-view-versus-a-copy\n",
      "  Y['平均分']=(Y['期中语文']+Y['期中数学']+Y['期中英语'])/3\n"
     ]
    },
    {
     "data": {
      "text/plain": "            平均分\n4262  42.666668\n830   81.666664\n6814  84.833336\n655   89.000000\n6017  68.000000",
      "text/html": "<div>\n<style scoped>\n    .dataframe tbody tr th:only-of-type {\n        vertical-align: middle;\n    }\n\n    .dataframe tbody tr th {\n        vertical-align: top;\n    }\n\n    .dataframe thead th {\n        text-align: right;\n    }\n</style>\n<table border=\"1\" class=\"dataframe\">\n  <thead>\n    <tr style=\"text-align: right;\">\n      <th></th>\n      <th>平均分</th>\n    </tr>\n  </thead>\n  <tbody>\n    <tr>\n      <th>4262</th>\n      <td>42.666668</td>\n    </tr>\n    <tr>\n      <th>830</th>\n      <td>81.666664</td>\n    </tr>\n    <tr>\n      <th>6814</th>\n      <td>84.833336</td>\n    </tr>\n    <tr>\n      <th>655</th>\n      <td>89.000000</td>\n    </tr>\n    <tr>\n      <th>6017</th>\n      <td>68.000000</td>\n    </tr>\n  </tbody>\n</table>\n</div>"
     },
     "execution_count": 27,
     "metadata": {},
     "output_type": "execute_result"
    }
   ],
   "source": [
    "X = X[['BMI','是否近视']]\n",
    "Y.head()\n",
    "Y['平均分']=(Y['期中语文']+Y['期中数学']+Y['期中英语'])/3\n",
    "X_train, X_test, y_train, y_test = train_test_split(X, Y, random_state=1)\n",
    "ychn_train = y_train[['期中语文']]\n",
    "ymat_train = y_train[['期中数学']]\n",
    "yeng_train = y_train[['期中英语']]\n",
    "yavg_train = y_train[['平均分']]\n",
    "ychn_test = y_test[['期中语文']]\n",
    "ymat_test = y_test[['期中数学']]\n",
    "yeng_test = y_test[['期中英语']]\n",
    "yavg_test = y_test[['平均分']]\n",
    "yavg_train.head()"
   ]
  },
  {
   "cell_type": "markdown",
   "metadata": {
    "pycharm": {
     "name": "#%% md\n"
    }
   },
   "source": [
    "### Linear Regression on Chiness Score"
   ]
  },
  {
   "cell_type": "code",
   "execution_count": 28,
   "metadata": {
    "pycharm": {
     "name": "#%%\n"
    }
   },
   "outputs": [
    {
     "name": "stdout",
     "output_type": "stream",
     "text": [
      "[73.49770474]\n",
      "[[-0.05214931  4.11147682]]\n",
      "train score: 0.01798462076861751\n",
      "test score: 0.011157286787125797\n"
     ]
    }
   ],
   "source": [
    "regr_chn = linear_model.LinearRegression()\n",
    "regr_chn.fit(X_train,ychn_train)\n",
    "print(regr_chn.intercept_)\n",
    "print(regr_chn.coef_)\n",
    "print(\"train score:\",regr_chn.score(X_train,ychn_train))\n",
    "print(\"test score:\",regr_chn.score(X_test,ychn_test))"
   ]
  },
  {
   "cell_type": "markdown",
   "metadata": {
    "pycharm": {
     "name": "#%% md\n"
    }
   },
   "source": [
    "### Linear Regression on English Score"
   ]
  },
  {
   "cell_type": "code",
   "execution_count": 29,
   "outputs": [
    {
     "name": "stdout",
     "output_type": "stream",
     "text": [
      "[57.26917809]\n",
      "[[0.12786015 8.94830936]]\n",
      "train score: 0.03458156418101799\n",
      "test score: -0.16030120770768663\n"
     ]
    }
   ],
   "source": [
    "regr_eng = linear_model.LinearRegression()\n",
    "regr_eng.fit(X_train,yeng_train)\n",
    "print(regr_eng.intercept_)\n",
    "print(regr_eng.coef_)\n",
    "print(\"train score:\",regr_eng.score(X_train,yeng_train))\n",
    "print(\"test score:\",regr_chn.score(X_test,yeng_test))"
   ],
   "metadata": {
    "collapsed": false,
    "pycharm": {
     "name": "#%%\n"
    }
   }
  },
  {
   "cell_type": "markdown",
   "source": [
    "### Linear Regression on Math Score"
   ],
   "metadata": {
    "collapsed": false
   }
  },
  {
   "cell_type": "code",
   "execution_count": 30,
   "outputs": [
    {
     "name": "stdout",
     "output_type": "stream",
     "text": [
      "[56.49752928]\n",
      "[[0.26491977 7.57976036]]\n",
      "train score: 0.023107524119044487\n",
      "test score: 0.014438525330832341\n"
     ]
    }
   ],
   "source": [
    "regr_mat = linear_model.LinearRegression()\n",
    "regr_mat.fit(X_train,ymat_train)\n",
    "print(regr_mat.intercept_)\n",
    "print(regr_mat.coef_)\n",
    "print(\"train score:\",regr_mat.score(X_train,ymat_train))\n",
    "print(\"test score:\",regr_mat.score(X_test,ymat_test))"
   ],
   "metadata": {
    "collapsed": false,
    "pycharm": {
     "name": "#%%\n"
    }
   }
  },
  {
   "cell_type": "markdown",
   "source": [
    "### Linear Regression on Average Score"
   ],
   "metadata": {
    "collapsed": false
   }
  },
  {
   "cell_type": "code",
   "execution_count": 31,
   "outputs": [
    {
     "name": "stdout",
     "output_type": "stream",
     "text": [
      "[62.42147059]\n",
      "[[0.11354354 6.87984889]]\n",
      "train score: 0.03497434748060246\n",
      "test score: 0.021953132137419562\n"
     ]
    }
   ],
   "source": [
    "regr_avg = linear_model.LinearRegression()\n",
    "regr_avg.fit(X_train,yavg_train)\n",
    "print(regr_avg.intercept_)\n",
    "print(regr_avg.coef_)\n",
    "print(\"train score:\",regr_avg.score(X_train,yavg_train))\n",
    "print(\"test score:\",regr_avg.score(X_test,yavg_test))"
   ],
   "metadata": {
    "collapsed": false,
    "pycharm": {
     "name": "#%%\n"
    }
   }
  },
  {
   "cell_type": "markdown",
   "source": [
    "### Linear Regression on X and other control variable"
   ],
   "metadata": {
    "collapsed": false,
    "pycharm": {
     "name": "#%% md\n"
    }
   }
  },
  {
   "cell_type": "code",
   "execution_count": 32,
   "outputs": [
    {
     "name": "stdout",
     "output_type": "stream",
     "text": [
      "[47.86116963]\n",
      "[[-6.76763603 -0.1287171   2.5475935   7.47232958 -0.22934683 -2.42923538\n",
      "   0.33163507  1.35437014  0.22791818  0.46393134  2.86651939  1.9780406 ]]\n",
      "train score: 0.3489845892235264\n",
      "test score: 0.39700370996380474\n"
     ]
    }
   ],
   "source": [
    "XC = data_xy[['性别','BMI','是否近视','基线认知测试标准分','户口类型','是否独生子女','经济条件','父母教育期望','母亲教育程度','父亲教育程度',\n",
    "              '父母婚姻状况','自己教育期望']]\n",
    "YC = data_xy[['平均分']]\n",
    "XC_train, XC_test, yc_train, yc_test = train_test_split(XC, YC, random_state=1)\n",
    "regr_c = linear_model.LinearRegression()\n",
    "regr_c.fit(XC_train,yc_train)\n",
    "print(regr_c.intercept_)\n",
    "print(regr_c.coef_)\n",
    "print(\"train score:\",regr_c.score(XC_train,yc_train))\n",
    "print(\"test score:\",regr_c.score(XC_test,yc_test))"
   ],
   "metadata": {
    "collapsed": false,
    "pycharm": {
     "name": "#%%\n"
    }
   }
  },
  {
   "cell_type": "markdown",
   "source": [
    "The most affective variable is the '标准化认知测试成绩‘, which makes sense since cognitive testing score\n",
    "is direcly related to mid-term test scores.<br>\n",
    "The second affective variable is gender, indicating girls tend to have better scores.<br>\n",
    "The coefficient of BMI suggests that the higher BMI, the lower the test score will be.<br>\n",
    "The coefficient of eye-sight situation suggests if one has poor eye-sight, he or she might\n",
    "have higher testing scores."
   ],
   "metadata": {
    "collapsed": false,
    "pycharm": {
     "name": "#%% md\n"
    }
   }
  },
  {
   "cell_type": "markdown",
   "source": [
    "#### Group Comparison Analysis\n"
   ],
   "metadata": {
    "collapsed": false,
    "pycharm": {
     "name": "#%% md\n"
    }
   }
  }
 ],
 "metadata": {
  "kernelspec": {
   "display_name": "Python 3",
   "language": "python",
   "name": "python3"
  },
  "language_info": {
   "codemirror_mode": {
    "name": "ipython",
    "version": 3
   },
   "file_extension": ".py",
   "mimetype": "text/x-python",
   "name": "python",
   "nbconvert_exporter": "python",
   "pygments_lexer": "ipython3",
   "version": "3.8.6"
  }
 },
 "nbformat": 4,
 "nbformat_minor": 1
}